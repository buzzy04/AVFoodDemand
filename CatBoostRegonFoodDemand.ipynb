{
 "cells": [
  {
   "cell_type": "code",
   "execution_count": 1,
   "metadata": {},
   "outputs": [],
   "source": [
    "import numpy as np\n",
    "import pandas as pd\n",
    "import seaborn as sns\n",
    "import catboost as cb\n",
    "import matplotlib.pyplot as plt\n",
    "%matplotlib inline\n",
    "\n",
    "from sklearn import metrics\n",
    "from sklearn.metrics import mean_squared_log_error\n"
   ]
  },
  {
   "cell_type": "code",
   "execution_count": 2,
   "metadata": {},
   "outputs": [],
   "source": [
    "train = pd.read_csv('train.csv')\n",
    "test = pd.read_csv('test_QoiMO9B.csv')\n",
    "center = pd.read_csv('fulfilment_center_info.csv')\n",
    "meal = pd.read_csv('meal_info.csv')"
   ]
  },
  {
   "cell_type": "code",
   "execution_count": 3,
   "metadata": {},
   "outputs": [
    {
     "data": {
      "text/plain": [
       "((456548, 15), (32573, 15))"
      ]
     },
     "execution_count": 3,
     "metadata": {},
     "output_type": "execute_result"
    }
   ],
   "source": [
    "train=pd.merge(train,center,how='left',on=['center_id'])\n",
    "test=pd.merge(test,center,how='left',on=['center_id'])\n",
    "train=pd.merge(train,meal,how='left',on=['meal_id'])\n",
    "test=pd.merge(test,meal,how='left',on=['meal_id'])\n",
    "test['num_orders'] = 0\n",
    "train.shape,test.shape"
   ]
  },
  {
   "cell_type": "code",
   "execution_count": 21,
   "metadata": {},
   "outputs": [
    {
     "data": {
      "text/html": [
       "<div>\n",
       "<style scoped>\n",
       "    .dataframe tbody tr th:only-of-type {\n",
       "        vertical-align: middle;\n",
       "    }\n",
       "\n",
       "    .dataframe tbody tr th {\n",
       "        vertical-align: top;\n",
       "    }\n",
       "\n",
       "    .dataframe thead th {\n",
       "        text-align: right;\n",
       "    }\n",
       "</style>\n",
       "<table border=\"1\" class=\"dataframe\">\n",
       "  <thead>\n",
       "    <tr style=\"text-align: right;\">\n",
       "      <th></th>\n",
       "      <th>id</th>\n",
       "      <th>week</th>\n",
       "      <th>center_id</th>\n",
       "      <th>meal_id</th>\n",
       "      <th>checkout_price</th>\n",
       "      <th>base_price</th>\n",
       "      <th>emailer_for_promotion</th>\n",
       "      <th>homepage_featured</th>\n",
       "      <th>num_orders</th>\n",
       "      <th>city_code</th>\n",
       "      <th>region_code</th>\n",
       "      <th>center_type</th>\n",
       "      <th>op_area</th>\n",
       "      <th>category</th>\n",
       "      <th>cuisine</th>\n",
       "    </tr>\n",
       "  </thead>\n",
       "  <tbody>\n",
       "    <tr>\n",
       "      <td>0</td>\n",
       "      <td>1379560</td>\n",
       "      <td>1</td>\n",
       "      <td>55</td>\n",
       "      <td>1885</td>\n",
       "      <td>136.83</td>\n",
       "      <td>152.29</td>\n",
       "      <td>0</td>\n",
       "      <td>0</td>\n",
       "      <td>177</td>\n",
       "      <td>647</td>\n",
       "      <td>56</td>\n",
       "      <td>TYPE_C</td>\n",
       "      <td>2.0</td>\n",
       "      <td>Beverages</td>\n",
       "      <td>Thai</td>\n",
       "    </tr>\n",
       "    <tr>\n",
       "      <td>1</td>\n",
       "      <td>1466964</td>\n",
       "      <td>1</td>\n",
       "      <td>55</td>\n",
       "      <td>1993</td>\n",
       "      <td>136.83</td>\n",
       "      <td>135.83</td>\n",
       "      <td>0</td>\n",
       "      <td>0</td>\n",
       "      <td>270</td>\n",
       "      <td>647</td>\n",
       "      <td>56</td>\n",
       "      <td>TYPE_C</td>\n",
       "      <td>2.0</td>\n",
       "      <td>Beverages</td>\n",
       "      <td>Thai</td>\n",
       "    </tr>\n",
       "    <tr>\n",
       "      <td>2</td>\n",
       "      <td>1346989</td>\n",
       "      <td>1</td>\n",
       "      <td>55</td>\n",
       "      <td>2539</td>\n",
       "      <td>134.86</td>\n",
       "      <td>135.86</td>\n",
       "      <td>0</td>\n",
       "      <td>0</td>\n",
       "      <td>189</td>\n",
       "      <td>647</td>\n",
       "      <td>56</td>\n",
       "      <td>TYPE_C</td>\n",
       "      <td>2.0</td>\n",
       "      <td>Beverages</td>\n",
       "      <td>Thai</td>\n",
       "    </tr>\n",
       "    <tr>\n",
       "      <td>3</td>\n",
       "      <td>1338232</td>\n",
       "      <td>1</td>\n",
       "      <td>55</td>\n",
       "      <td>2139</td>\n",
       "      <td>339.50</td>\n",
       "      <td>437.53</td>\n",
       "      <td>0</td>\n",
       "      <td>0</td>\n",
       "      <td>54</td>\n",
       "      <td>647</td>\n",
       "      <td>56</td>\n",
       "      <td>TYPE_C</td>\n",
       "      <td>2.0</td>\n",
       "      <td>Beverages</td>\n",
       "      <td>Indian</td>\n",
       "    </tr>\n",
       "    <tr>\n",
       "      <td>4</td>\n",
       "      <td>1448490</td>\n",
       "      <td>1</td>\n",
       "      <td>55</td>\n",
       "      <td>2631</td>\n",
       "      <td>243.50</td>\n",
       "      <td>242.50</td>\n",
       "      <td>0</td>\n",
       "      <td>0</td>\n",
       "      <td>40</td>\n",
       "      <td>647</td>\n",
       "      <td>56</td>\n",
       "      <td>TYPE_C</td>\n",
       "      <td>2.0</td>\n",
       "      <td>Beverages</td>\n",
       "      <td>Indian</td>\n",
       "    </tr>\n",
       "  </tbody>\n",
       "</table>\n",
       "</div>"
      ],
      "text/plain": [
       "        id  week  center_id  meal_id  checkout_price  base_price  \\\n",
       "0  1379560     1         55     1885          136.83      152.29   \n",
       "1  1466964     1         55     1993          136.83      135.83   \n",
       "2  1346989     1         55     2539          134.86      135.86   \n",
       "3  1338232     1         55     2139          339.50      437.53   \n",
       "4  1448490     1         55     2631          243.50      242.50   \n",
       "\n",
       "   emailer_for_promotion  homepage_featured  num_orders  city_code  \\\n",
       "0                      0                  0         177        647   \n",
       "1                      0                  0         270        647   \n",
       "2                      0                  0         189        647   \n",
       "3                      0                  0          54        647   \n",
       "4                      0                  0          40        647   \n",
       "\n",
       "   region_code center_type  op_area   category cuisine  \n",
       "0           56      TYPE_C      2.0  Beverages    Thai  \n",
       "1           56      TYPE_C      2.0  Beverages    Thai  \n",
       "2           56      TYPE_C      2.0  Beverages    Thai  \n",
       "3           56      TYPE_C      2.0  Beverages  Indian  \n",
       "4           56      TYPE_C      2.0  Beverages  Indian  "
      ]
     },
     "execution_count": 21,
     "metadata": {},
     "output_type": "execute_result"
    }
   ],
   "source": [
    "train.head()"
   ]
  },
  {
   "cell_type": "code",
   "execution_count": 4,
   "metadata": {},
   "outputs": [
    {
     "data": {
      "text/plain": [
       "<matplotlib.axes._subplots.AxesSubplot at 0x244e9648648>"
      ]
     },
     "execution_count": 4,
     "metadata": {},
     "output_type": "execute_result"
    },
    {
     "data": {
      "image/png": "[encoded data removed]",
      "text/plain": [
       "<Figure size 648x576 with 2 Axes>"
      ]
     },
     "metadata": {
      "needs_background": "light"
     },
     "output_type": "display_data"
    }
   ],
   "source": [
    "from matplotlib.pyplot import figure\n",
    "plt.figure(figsize = (9,8))\n",
    "corr = train.corr()\n",
    "sns.heatmap(corr, cmap=\"Greens\")#, annot = True)"
   ]
  },
  {
   "cell_type": "code",
   "execution_count": 5,
   "metadata": {},
   "outputs": [
    {
     "data": {
      "text/plain": [
       "id                       0.000702\n",
       "week                    -0.017210\n",
       "center_id               -0.053035\n",
       "meal_id                  0.010597\n",
       "checkout_price          -0.282108\n",
       "base_price              -0.222306\n",
       "emailer_for_promotion    0.277147\n",
       "homepage_featured        0.294490\n",
       "num_orders               1.000000\n",
       "city_code                0.041596\n",
       "region_code              0.029744\n",
       "op_area                  0.176976\n",
       "Name: num_orders, dtype: float64"
      ]
     },
     "execution_count": 5,
     "metadata": {},
     "output_type": "execute_result"
    }
   ],
   "source": [
    "corr.num_orders"
   ]
  },
  {
   "cell_type": "code",
   "execution_count": 6,
   "metadata": {},
   "outputs": [],
   "source": [
    "train_subset = train[0: 423974]\n",
    "val_set = train[423975:]"
   ]
  },
  {
   "cell_type": "code",
   "execution_count": 7,
   "metadata": {},
   "outputs": [],
   "source": [
    "y = train_subset.num_orders"
   ]
  },
  {
   "cell_type": "code",
   "execution_count": 22,
   "metadata": {},
   "outputs": [],
   "source": [
    "features =[ 'checkout_price', 'base_price',\n",
    "       'emailer_for_promotion', 'homepage_featured', 'op_area', 'category']"
   ]
  },
  {
   "cell_type": "code",
   "execution_count": 23,
   "metadata": {},
   "outputs": [],
   "source": [
    "x = train_subset[features]"
   ]
  },
  {
   "cell_type": "code",
   "execution_count": 44,
   "metadata": {},
   "outputs": [],
   "source": [
    "cat_ind = [2,3,5]"
   ]
  },
  {
   "cell_type": "code",
   "execution_count": 88,
   "metadata": {},
   "outputs": [],
   "source": [
    "cat = cb.CatBoostRegressor(iterations=60, depth=3, loss_function='RMSE',one_hot_max_size=5,random_seed=2018)"
   ]
  },
  {
   "cell_type": "code",
   "execution_count": 89,
   "metadata": {},
   "outputs": [
    {
     "name": "stdout",
     "output_type": "stream",
     "text": [
      "0:\tlearn: 398.5982917\ttotal: 216ms\tremaining: 12.8s\n",
      "1:\tlearn: 393.8386908\ttotal: 358ms\tremaining: 10.4s\n",
      "2:\tlearn: 389.2797247\ttotal: 478ms\tremaining: 9.07s\n",
      "3:\tlearn: 384.9257919\ttotal: 622ms\tremaining: 8.71s\n",
      "4:\tlearn: 380.7410791\ttotal: 761ms\tremaining: 8.37s\n",
      "5:\tlearn: 376.9078957\ttotal: 864ms\tremaining: 7.78s\n",
      "6:\tlearn: 372.9028063\ttotal: 983ms\tremaining: 7.44s\n",
      "7:\tlearn: 369.4086980\ttotal: 1.13s\tremaining: 7.36s\n",
      "8:\tlearn: 365.7061804\ttotal: 1.28s\tremaining: 7.24s\n",
      "9:\tlearn: 362.4342800\ttotal: 1.4s\tremaining: 6.98s\n",
      "10:\tlearn: 358.9848048\ttotal: 1.5s\tremaining: 6.7s\n",
      "11:\tlearn: 355.9887550\ttotal: 1.62s\tremaining: 6.48s\n",
      "12:\tlearn: 352.8174212\ttotal: 1.75s\tremaining: 6.33s\n",
      "13:\tlearn: 349.8774778\ttotal: 1.9s\tremaining: 6.23s\n",
      "14:\tlearn: 347.1222286\ttotal: 2.03s\tremaining: 6.1s\n",
      "15:\tlearn: 344.3321486\ttotal: 2.13s\tremaining: 5.87s\n",
      "16:\tlearn: 341.8746894\ttotal: 2.26s\tremaining: 5.72s\n",
      "17:\tlearn: 339.3003922\ttotal: 2.41s\tremaining: 5.63s\n",
      "18:\tlearn: 336.9047442\ttotal: 2.56s\tremaining: 5.53s\n",
      "19:\tlearn: 334.6761499\ttotal: 2.67s\tremaining: 5.33s\n",
      "20:\tlearn: 332.4571913\ttotal: 2.77s\tremaining: 5.15s\n",
      "21:\tlearn: 330.4602418\ttotal: 2.94s\tremaining: 5.08s\n",
      "22:\tlearn: 328.6199868\ttotal: 3.1s\tremaining: 4.99s\n",
      "23:\tlearn: 326.5674118\ttotal: 3.23s\tremaining: 4.85s\n",
      "24:\tlearn: 324.7347055\ttotal: 3.34s\tremaining: 4.68s\n",
      "25:\tlearn: 322.8524627\ttotal: 3.45s\tremaining: 4.51s\n",
      "26:\tlearn: 321.2200573\ttotal: 3.56s\tremaining: 4.35s\n",
      "27:\tlearn: 319.6777184\ttotal: 3.68s\tremaining: 4.21s\n",
      "28:\tlearn: 318.0466164\ttotal: 3.8s\tremaining: 4.07s\n",
      "29:\tlearn: 316.6362539\ttotal: 3.91s\tremaining: 3.91s\n",
      "30:\tlearn: 315.1284251\ttotal: 4.01s\tremaining: 3.76s\n",
      "31:\tlearn: 313.8040669\ttotal: 4.13s\tremaining: 3.62s\n",
      "32:\tlearn: 312.5198071\ttotal: 4.24s\tremaining: 3.47s\n",
      "33:\tlearn: 311.1648898\ttotal: 4.34s\tremaining: 3.32s\n",
      "34:\tlearn: 309.9853183\ttotal: 4.43s\tremaining: 3.17s\n",
      "35:\tlearn: 308.7214744\ttotal: 4.55s\tremaining: 3.04s\n",
      "36:\tlearn: 307.5350756\ttotal: 4.67s\tremaining: 2.9s\n",
      "37:\tlearn: 306.3717773\ttotal: 4.78s\tremaining: 2.77s\n",
      "38:\tlearn: 305.2525721\ttotal: 4.89s\tremaining: 2.63s\n",
      "39:\tlearn: 304.2779568\ttotal: 5.01s\tremaining: 2.51s\n",
      "40:\tlearn: 303.3381729\ttotal: 5.14s\tremaining: 2.38s\n",
      "41:\tlearn: 302.3117238\ttotal: 5.25s\tremaining: 2.25s\n",
      "42:\tlearn: 301.4194260\ttotal: 5.36s\tremaining: 2.12s\n",
      "43:\tlearn: 300.4932743\ttotal: 5.51s\tremaining: 2s\n",
      "44:\tlearn: 299.6316480\ttotal: 5.68s\tremaining: 1.89s\n",
      "45:\tlearn: 298.7527560\ttotal: 5.82s\tremaining: 1.77s\n",
      "46:\tlearn: 297.9250191\ttotal: 5.96s\tremaining: 1.65s\n",
      "47:\tlearn: 297.1377828\ttotal: 6.1s\tremaining: 1.53s\n",
      "48:\tlearn: 296.3527203\ttotal: 6.26s\tremaining: 1.41s\n",
      "49:\tlearn: 295.1037254\ttotal: 6.4s\tremaining: 1.28s\n",
      "50:\tlearn: 293.9265525\ttotal: 6.52s\tremaining: 1.15s\n",
      "51:\tlearn: 292.9639818\ttotal: 6.62s\tremaining: 1.02s\n",
      "52:\tlearn: 292.0498352\ttotal: 6.72s\tremaining: 888ms\n",
      "53:\tlearn: 291.1878815\ttotal: 6.84s\tremaining: 760ms\n",
      "54:\tlearn: 290.1404732\ttotal: 6.94s\tremaining: 631ms\n",
      "55:\tlearn: 289.3217388\ttotal: 7.05s\tremaining: 503ms\n",
      "56:\tlearn: 288.3673368\ttotal: 7.15s\tremaining: 376ms\n",
      "57:\tlearn: 287.4516392\ttotal: 7.27s\tremaining: 251ms\n",
      "58:\tlearn: 286.7408886\ttotal: 7.38s\tremaining: 125ms\n",
      "59:\tlearn: 285.8723905\ttotal: 7.48s\tremaining: 0us\n"
     ]
    },
    {
     "data": {
      "text/plain": [
       "<catboost.core.CatBoostRegressor at 0x244800b2b88>"
      ]
     },
     "execution_count": 89,
     "metadata": {},
     "output_type": "execute_result"
    }
   ],
   "source": [
    "cat.fit(x,y,cat_features= cat_ind, verbose=True)"
   ]
  },
  {
   "cell_type": "code",
   "execution_count": 90,
   "metadata": {},
   "outputs": [
    {
     "name": "stdout",
     "output_type": "stream",
     "text": [
      "1.9674476978912903\n"
     ]
    }
   ],
   "source": [
    "x_test = test[features]\n",
    "pred_cat = cat.predict(x_test)\n",
    "\n",
    "print(mean_squared_log_error(abs(val_set.num_orders),abs(pred_cat)))"
   ]
  },
  {
   "cell_type": "code",
   "execution_count": 48,
   "metadata": {},
   "outputs": [
    {
     "data": {
      "text/plain": [
       "150"
      ]
     },
     "execution_count": 48,
     "metadata": {},
     "output_type": "execute_result"
    }
   ],
   "source": [
    "cat.tree_count_\n",
    "\n"
   ]
  },
  {
   "cell_type": "code",
   "execution_count": null,
   "metadata": {},
   "outputs": [],
   "source": []
  },
  {
   "cell_type": "code",
   "execution_count": 42,
   "metadata": {},
   "outputs": [
    {
     "data": {
      "text/plain": [
       "array([20.47787452,  4.76144253, 11.35377113, 13.92254308,  9.68989409,\n",
       "       32.68319157,  2.40181034,  0.2015257 ,  4.50794705])"
      ]
     },
     "execution_count": 42,
     "metadata": {},
     "output_type": "execute_result"
    }
   ],
   "source": [
    "cat.feature_importances_"
   ]
  },
  {
   "cell_type": "code",
   "execution_count": 91,
   "metadata": {},
   "outputs": [
    {
     "data": {
      "text/plain": [
       "<matplotlib.legend.Legend at 0x244801a6708>"
      ]
     },
     "execution_count": 91,
     "metadata": {},
     "output_type": "execute_result"
    },
    {
     "data": {
      "image/png": "[encoded data removed]",
      "text/plain": [
       "<Figure size 720x720 with 1 Axes>"
      ]
     },
     "metadata": {
      "needs_background": "light"
     },
     "output_type": "display_data"
    }
   ],
   "source": [
    "plt.figure(figsize = (10,10))\n",
    "plt.plot(val_set.week,val_set.num_orders,'b-',label='actual')\n",
    "plt.plot(val_set.week,pred_cat,'ro',label='predicted')\n",
    "plt.xticks(rotation = '60'); \n",
    "plt.legend()"
   ]
  },
  {
   "cell_type": "code",
   "execution_count": 92,
   "metadata": {},
   "outputs": [],
   "source": [
    "sub_df = pd.DataFrame(columns=['id', 'num_orders'])\n",
    "sub_df['id'] = test['id']\n",
    "sub_df['num_orders'] = pred_cat\n",
    "sub_df.to_csv('result_cat_separate.csv', index=False)"
   ]
  },
  {
   "cell_type": "code",
   "execution_count": 93,
   "metadata": {},
   "outputs": [
    {
     "data": {
      "text/html": [
       "<div>\n",
       "<style scoped>\n",
       "    .dataframe tbody tr th:only-of-type {\n",
       "        vertical-align: middle;\n",
       "    }\n",
       "\n",
       "    .dataframe tbody tr th {\n",
       "        vertical-align: top;\n",
       "    }\n",
       "\n",
       "    .dataframe thead th {\n",
       "        text-align: right;\n",
       "    }\n",
       "</style>\n",
       "<table border=\"1\" class=\"dataframe\">\n",
       "  <thead>\n",
       "    <tr style=\"text-align: right;\">\n",
       "      <th></th>\n",
       "      <th>id</th>\n",
       "      <th>num_orders</th>\n",
       "    </tr>\n",
       "  </thead>\n",
       "  <tbody>\n",
       "    <tr>\n",
       "      <td>0</td>\n",
       "      <td>1028232</td>\n",
       "      <td>360.070433</td>\n",
       "    </tr>\n",
       "    <tr>\n",
       "      <td>1</td>\n",
       "      <td>1127204</td>\n",
       "      <td>360.070433</td>\n",
       "    </tr>\n",
       "    <tr>\n",
       "      <td>2</td>\n",
       "      <td>1212707</td>\n",
       "      <td>224.274186</td>\n",
       "    </tr>\n",
       "    <tr>\n",
       "      <td>3</td>\n",
       "      <td>1082698</td>\n",
       "      <td>108.424911</td>\n",
       "    </tr>\n",
       "    <tr>\n",
       "      <td>4</td>\n",
       "      <td>1400926</td>\n",
       "      <td>108.424911</td>\n",
       "    </tr>\n",
       "    <tr>\n",
       "      <td>...</td>\n",
       "      <td>...</td>\n",
       "      <td>...</td>\n",
       "    </tr>\n",
       "    <tr>\n",
       "      <td>32568</td>\n",
       "      <td>1250239</td>\n",
       "      <td>118.187408</td>\n",
       "    </tr>\n",
       "    <tr>\n",
       "      <td>32569</td>\n",
       "      <td>1039516</td>\n",
       "      <td>118.187408</td>\n",
       "    </tr>\n",
       "    <tr>\n",
       "      <td>32570</td>\n",
       "      <td>1158107</td>\n",
       "      <td>449.189139</td>\n",
       "    </tr>\n",
       "    <tr>\n",
       "      <td>32571</td>\n",
       "      <td>1444235</td>\n",
       "      <td>429.888932</td>\n",
       "    </tr>\n",
       "    <tr>\n",
       "      <td>32572</td>\n",
       "      <td>1291286</td>\n",
       "      <td>394.994267</td>\n",
       "    </tr>\n",
       "  </tbody>\n",
       "</table>\n",
       "<p>32573 rows × 2 columns</p>\n",
       "</div>"
      ],
      "text/plain": [
       "            id  num_orders\n",
       "0      1028232  360.070433\n",
       "1      1127204  360.070433\n",
       "2      1212707  224.274186\n",
       "3      1082698  108.424911\n",
       "4      1400926  108.424911\n",
       "...        ...         ...\n",
       "32568  1250239  118.187408\n",
       "32569  1039516  118.187408\n",
       "32570  1158107  449.189139\n",
       "32571  1444235  429.888932\n",
       "32572  1291286  394.994267\n",
       "\n",
       "[32573 rows x 2 columns]"
      ]
     },
     "execution_count": 93,
     "metadata": {},
     "output_type": "execute_result"
    }
   ],
   "source": [
    "sub_df"
   ]
  },
  {
   "cell_type": "code",
   "execution_count": null,
   "metadata": {},
   "outputs": [],
   "source": []
  }
 ],
 "metadata": {
  "kernelspec": {
   "display_name": "Python 3",
   "language": "python",
   "name": "python3"
  },
  "language_info": {
   "codemirror_mode": {
    "name": "ipython",
    "version": 3
   },
   "file_extension": ".py",
   "mimetype": "text/x-python",
   "name": "python",
   "nbconvert_exporter": "python",
   "pygments_lexer": "ipython3",
   "version": "3.7.4"
  }
 },
 "nbformat": 4,
 "nbformat_minor": 2
}
